{
 "cells": [
  {
   "cell_type": "markdown",
   "metadata": {},
   "source": [
    "# Tutorial - What you can do"
   ]
  },
  {
   "cell_type": "markdown",
   "metadata": {},
   "source": [
    "**Author(s):** Santosh Philip"
   ]
  },
  {
   "cell_type": "markdown",
   "metadata": {},
   "source": [
    "We am using this tutorial/documentation as a way of identifying alformed API and gaps in the software. When eppy was developed, writing the user documentation forced us to rewrite the software. This documentation is written with the same intent. It is a little easier in the case of eppy3000, since we are trying to mimic eppy using it as a starting point.\n",
    "\n",
    "Any places where the word TODO occurs is where we find some recoding has to be done. An issue has to be opened and then resolved."
   ]
  },
  {
   "cell_type": "markdown",
   "metadata": {},
   "source": [
    "## Quick Start\n",
    "\n",
    "Here is a short IDF file that I’ll be using as an example to start us off\n",
    "\n"
   ]
  },
  {
   "cell_type": "raw",
   "metadata": {
    "raw_mimetype": "text/restructuredtext"
   },
   "source": [
    "::\n",
    "\n",
    "    {\n",
    "        \"Version\": {\n",
    "            \"Version 1\": {\n",
    "                \"version_identifier\": \"9.3\",\n",
    "                \"idf_order\": 1\n",
    "            }\n",
    "        },\n",
    "        \"SimulationControl\": {\n",
    "            \"SimulationControl 1\": {\n",
    "                \"do_zone_sizing_calculation\": \"Yes\",\n",
    "                \"do_system_sizing_calculation\": \"Yes\",\n",
    "                \"do_plant_sizing_calculation\": \"Yes\",\n",
    "                \"run_simulation_for_sizing_periods\": \"No\",\n",
    "                \"run_simulation_for_weather_file_run_periods\": \"Yes\",\n",
    "                \"idf_order\": 2\n",
    "            }\n",
    "        },\n",
    "        \"Building\": {\n",
    "            \"Empire State Building\": {\n",
    "                \"north_axis\": 30,\n",
    "                \"terrain\": \"City\",\n",
    "                \"loads_convergence_tolerance_value\": 0.04,\n",
    "                \"temperature_convergence_tolerance_value\": 0.4,\n",
    "                \"solar_distribution\": \"FullExterior\",\n",
    "                \"maximum_number_of_warmup_days\": 25,\n",
    "                \"minimum_number_of_warmup_days\": 6,\n",
    "                \"idf_order\": 3\n",
    "            }\n",
    "        },\n",
    "        \"Site:Location\": {\n",
    "            \"CHICAGO_IL_USA TMY2-94846\": {\n",
    "                \"latitude\": 41.78,\n",
    "                \"longitude\": -87.75,\n",
    "                \"time_zone\": -6,\n",
    "                \"elevation\": 190,\n",
    "                \"idf_order\": 4\n",
    "            }\n",
    "        }\n",
    "    }"
   ]
  },
  {
   "cell_type": "markdown",
   "metadata": {},
   "source": [
    "To use eppy3000 to look at this model, we have to run a little code first:"
   ]
  },
  {
   "cell_type": "code",
   "execution_count": 2,
   "metadata": {},
   "outputs": [],
   "source": [
    "# you would normaly install eppy by doing\n",
    "# python setup.py install\n",
    "# or\n",
    "# pip install eppy\n",
    "# or\n",
    "# easy_install eppy\n",
    "\n",
    "# if you have not done so, uncomment the following three lines\n",
    "import sys\n",
    "# pathnameto_eppy = 'c:/eppy3000'\n",
    "pathnameto_eppy3000 = '../'\n",
    "sys.path.append(pathnameto_eppy3000)\n",
    "\n",
    "from eppy3000.modelmaker import EPJ\n",
    "schema_file = \"../eppy3000/resources/schema/V9_3/Energy+.schema.epJSON\"\n",
    "ep_file = \"../eppy3000/resources/epJSON/V9_3/smallfile.epJSON\""
   ]
  },
  {
   "cell_type": "code",
   "execution_count": 3,
   "metadata": {},
   "outputs": [],
   "source": [
    "epschemaname = \"/Applications/EnergyPlus-8-9-0/Energy+.schema.epJSON\"\n",
    "epschemaname = \"/Applications/EnergyPlus-9-3-0/Energy+.schema.epJSON\" # does not work\n",
    "\n",
    "epschemaname =\"../eppy3000/resources/schema/V9_3/Energy+.schema.epJSON\" # does not work\n",
    "epschemaname =\"../eppy3000/resources/schema/V9_0/Energy+.schema.epJSON\"\n",
    "\n",
    "epj = EPJ(epjname=ep_file, epschemaname=epschemaname)\n",
    "\n",
    "# TODO: eppy3000 is NOT working on schema from E+ version 9.3"
   ]
  },
  {
   "cell_type": "code",
   "execution_count": 4,
   "metadata": {},
   "outputs": [
    {
     "name": "stdout",
     "output_type": "stream",
     "text": [
      "\n",
      "Version                                          !-  EP_KEY\n",
      "            Version 1                            !-  EPJOBJECT_NAME\n",
      "            9.3                                  !-  version_identifier\n",
      "            1                                    !-  idf_order\n",
      "\n",
      "SimulationControl                                !-  EP_KEY\n",
      "            SimulationControl 1                  !-  EPJOBJECT_NAME\n",
      "            Yes                                  !-  do_zone_sizing_calculation\n",
      "            Yes                                  !-  do_system_sizing_calculation\n",
      "            Yes                                  !-  do_plant_sizing_calculation\n",
      "            No                                   !-  run_simulation_for_sizing_periods\n",
      "            Yes                                  !-  run_simulation_for_weather_file_run_periods\n",
      "            2                                    !-  idf_order\n",
      "\n",
      "Building                                         !-  EP_KEY\n",
      "            Empire State Building                !-  EPJOBJECT_NAME\n",
      "            30                                   !-  north_axis\n",
      "            City                                 !-  terrain\n",
      "            0.04                                 !-  loads_convergence_tolerance_value\n",
      "            0.4                                  !-  temperature_convergence_tolerance_value\n",
      "            FullExterior                         !-  solar_distribution\n",
      "            25                                   !-  maximum_number_of_warmup_days\n",
      "            6                                    !-  minimum_number_of_warmup_days\n",
      "            3                                    !-  idf_order\n",
      "\n",
      "Site:Location                                    !-  EP_KEY\n",
      "            CHICAGO_IL_USA TMY2-94846            !-  EPJOBJECT_NAME\n",
      "            41.78                                !-  latitude\n",
      "            -87.75                               !-  longitude\n",
      "            -6                                   !-  time_zone\n",
      "            190                                  !-  elevation\n",
      "            4                                    !-  idf_order\n"
     ]
    }
   ],
   "source": [
    "print(epj)"
   ]
  },
  {
   "cell_type": "markdown",
   "metadata": {},
   "source": [
    "Looks like the same file as before, except that it is written in the idf format\n",
    "\n",
    "As you can see, this file has four objects:\n",
    "\n",
    "- Version\n",
    "- SimulationControl\n",
    "- Building\n",
    "- Site:Location\n",
    "\n",
    "\n",
    "So, let us look take a closer look at the BUILDING object. We can do this using this command:"
   ]
  },
  {
   "cell_type": "raw",
   "metadata": {
    "raw_mimetype": "text/restructuredtext"
   },
   "source": [
    "``print filename.idfobjects['OBJECTNAME']``"
   ]
  },
  {
   "cell_type": "code",
   "execution_count": 7,
   "metadata": {},
   "outputs": [
    {
     "name": "stdout",
     "output_type": "stream",
     "text": [
      "[\n",
      "Building                                 !-  EP_KEY\n",
      "    Empire State Building            !-  EPJOBJECT_NAME\n",
      "    30                                   !-  north_axis\n",
      "    City                                 !-  terrain\n",
      "    0.04                                 !-  loads_convergence_tolerance_value\n",
      "    0.4                                  !-  temperature_convergence_tolerance_value\n",
      "    FullExterior                         !-  solar_distribution\n",
      "    25                                   !-  maximum_number_of_warmup_days\n",
      "    6                                    !-  minimum_number_of_warmup_days\n",
      "    3                                    !-  idf_order]\n"
     ]
    }
   ],
   "source": [
    "print(epj.epobjects['Building'])  # put the name of the object you'd like to look at in brackets"
   ]
  },
  {
   "cell_type": "markdown",
   "metadata": {},
   "source": [
    "We can also zoom in on the object and look just at its individual parts.\n",
    "\n",
    "For example, let us look at the name of the building.\n",
    "\n",
    "To do this, we have to do some more behind-the-scenes work, which we’ll explain later.\n",
    "\n",
    "TODO: The following about names needs some explanation. The Name filed does not exist."
   ]
  },
  {
   "cell_type": "code",
   "execution_count": 8,
   "metadata": {},
   "outputs": [],
   "source": [
    "building = epj.epobjects['Building'][0]"
   ]
  },
  {
   "cell_type": "markdown",
   "metadata": {},
   "source": [
    "Now we can do this:"
   ]
  },
  {
   "cell_type": "code",
   "execution_count": 11,
   "metadata": {},
   "outputs": [
    {
     "data": {
      "text/plain": [
       "'Empire State Building'"
      ]
     },
     "execution_count": 11,
     "metadata": {},
     "output_type": "execute_result"
    }
   ],
   "source": [
    "building.eppyname"
   ]
  },
  {
   "cell_type": "markdown",
   "metadata": {},
   "source": [
    "Now that we’ve isolated the building name, we can change it."
   ]
  },
  {
   "cell_type": "code",
   "execution_count": 12,
   "metadata": {},
   "outputs": [],
   "source": [
    "building.eppyname = \"Taj Mahal\""
   ]
  },
  {
   "cell_type": "markdown",
   "metadata": {},
   "source": [
    "Did this actually change the name in the model ? Let us print the entire model and see."
   ]
  },
  {
   "cell_type": "code",
   "execution_count": 13,
   "metadata": {},
   "outputs": [
    {
     "name": "stdout",
     "output_type": "stream",
     "text": [
      "\n",
      "Version                                          !-  EP_KEY\n",
      "            Version 1                            !-  EPJOBJECT_NAME\n",
      "            9.3                                  !-  version_identifier\n",
      "            1                                    !-  idf_order\n",
      "\n",
      "SimulationControl                                !-  EP_KEY\n",
      "            SimulationControl 1                  !-  EPJOBJECT_NAME\n",
      "            Yes                                  !-  do_zone_sizing_calculation\n",
      "            Yes                                  !-  do_system_sizing_calculation\n",
      "            Yes                                  !-  do_plant_sizing_calculation\n",
      "            No                                   !-  run_simulation_for_sizing_periods\n",
      "            Yes                                  !-  run_simulation_for_weather_file_run_periods\n",
      "            2                                    !-  idf_order\n",
      "\n",
      "Building                                         !-  EP_KEY\n",
      "            Taj Mahal                            !-  EPJOBJECT_NAME\n",
      "            30                                   !-  north_axis\n",
      "            City                                 !-  terrain\n",
      "            0.04                                 !-  loads_convergence_tolerance_value\n",
      "            0.4                                  !-  temperature_convergence_tolerance_value\n",
      "            FullExterior                         !-  solar_distribution\n",
      "            25                                   !-  maximum_number_of_warmup_days\n",
      "            6                                    !-  minimum_number_of_warmup_days\n",
      "            3                                    !-  idf_order\n",
      "\n",
      "Site:Location                                    !-  EP_KEY\n",
      "            CHICAGO_IL_USA TMY2-94846            !-  EPJOBJECT_NAME\n",
      "            41.78                                !-  latitude\n",
      "            -87.75                               !-  longitude\n",
      "            -6                                   !-  time_zone\n",
      "            190                                  !-  elevation\n",
      "            4                                    !-  idf_order\n"
     ]
    }
   ],
   "source": [
    "print(epj)"
   ]
  },
  {
   "cell_type": "markdown",
   "metadata": {},
   "source": [
    "Yes! It did. So now you have a taste of what eppy can do. Let’s get started!"
   ]
  },
  {
   "cell_type": "markdown",
   "metadata": {},
   "source": [
    "## Modifying IDF Fields"
   ]
  },
  {
   "cell_type": "markdown",
   "metadata": {},
   "source": [
    "That was just a quick example – we were showing off. Let’s look a little closer.\n",
    "\n",
    "As you might have guessed, changing an IDF field follows this structure:"
   ]
  },
  {
   "cell_type": "raw",
   "metadata": {
    "raw_mimetype": "text/restructuredtext"
   },
   "source": [
    "``object.fieldname = \"New Field Name\"``"
   ]
  },
  {
   "cell_type": "markdown",
   "metadata": {},
   "source": [
    "Plugging the object name (building), the field name (Name) and our new field name (“Empire State Building”) into this command gave us this:"
   ]
  },
  {
   "cell_type": "raw",
   "metadata": {
    "raw_mimetype": "text/restructuredtext"
   },
   "source": [
    "``object.fieldname = \"New Field Name\"``"
   ]
  },
  {
   "cell_type": "markdown",
   "metadata": {},
   "source": [
    "But how did we know that “Name” is one of the fields in the object “building”?\n",
    "\n",
    "Are there other fields?\n",
    "\n",
    "What are they called?"
   ]
  },
  {
   "cell_type": "code",
   "execution_count": 17,
   "metadata": {},
   "outputs": [],
   "source": [
    "# TODO: need to implement the function fieldnames()"
   ]
  },
  {
   "cell_type": "markdown",
   "metadata": {},
   "source": [
    "## Python lesson 1: lists\n",
    "\n",
    "do this later ?"
   ]
  },
  {
   "cell_type": "markdown",
   "metadata": {},
   "source": [
    "## How many items in the list\n",
    "\n",
    "Do this later"
   ]
  },
  {
   "cell_type": "markdown",
   "metadata": {},
   "source": [
    "## Saving an idf file\n",
    "\n",
    "This is easy:"
   ]
  },
  {
   "cell_type": "raw",
   "metadata": {
    "raw_mimetype": "text/restructuredtext"
   },
   "source": [
    "::\n",
    "\n",
    "    epj.save()\n",
    "    # OR\n",
    "    epj.saveas(\"newname.epJSON\")"
   ]
  },
  {
   "cell_type": "markdown",
   "metadata": {},
   "source": [
    "## Working with E+ objects\n",
    "\n",
    "Let us open a small idf file that has only “CONSTRUCTION” and “MATERIAL” objects in it. You can go into “../idffiles/V_7_2/constructions.idf” and take a look at the file. We are not printing it here because it is too big.\n",
    "\n",
    "So let us open it using the idfreader -"
   ]
  },
  {
   "cell_type": "code",
   "execution_count": null,
   "metadata": {},
   "outputs": [],
   "source": []
  }
 ],
 "metadata": {
  "celltoolbar": "Raw Cell Format",
  "kernelspec": {
   "display_name": "Python 3",
   "language": "python",
   "name": "python3"
  },
  "language_info": {
   "codemirror_mode": {
    "name": "ipython",
    "version": 3
   },
   "file_extension": ".py",
   "mimetype": "text/x-python",
   "name": "python",
   "nbconvert_exporter": "python",
   "pygments_lexer": "ipython3",
   "version": "3.7.4"
  }
 },
 "nbformat": 4,
 "nbformat_minor": 4
}
