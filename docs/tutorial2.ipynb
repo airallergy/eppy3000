{
 "cells": [
  {
   "cell_type": "markdown",
   "metadata": {},
   "source": [
    "# Tutorial - What you can do"
   ]
  },
  {
   "cell_type": "markdown",
   "metadata": {},
   "source": [
    "**Author(s):** Santosh Philip"
   ]
  },
  {
   "cell_type": "markdown",
   "metadata": {},
   "source": [
    "We am using this tutorial/documentation as a way of identifying alformed API and gaps in the software. When eppy was developed, writing the user documentation forced us to rewrite the software. This documentation is written with the same intent. It is a little easier in the case of eppy3000, since we are trying to mimic eppy using it as a starting point.\n",
    "\n",
    "Any places where the word TODO occurs is where we find some recoding has to be done. An issue has to be opened and then resolved."
   ]
  },
  {
   "cell_type": "markdown",
   "metadata": {},
   "source": [
    "## Quick Start\n",
    "\n",
    "Here is a short IDF file that I’ll be using as an example to start us off"
   ]
  },
  {
   "cell_type": "raw",
   "metadata": {},
   "source": [
    "{\n",
    "    \"Version\": {\n",
    "        \"Version 1\": {\n",
    "            \"version_identifier\": \"9.3\",\n",
    "            \"idf_order\": 1\n",
    "        }\n",
    "    },\n",
    "    \"SimulationControl\": {\n",
    "        \"SimulationControl 1\": {\n",
    "            \"do_zone_sizing_calculation\": \"Yes\",\n",
    "            \"do_system_sizing_calculation\": \"Yes\",\n",
    "            \"do_plant_sizing_calculation\": \"Yes\",\n",
    "            \"run_simulation_for_sizing_periods\": \"No\",\n",
    "            \"run_simulation_for_weather_file_run_periods\": \"Yes\",\n",
    "            \"idf_order\": 2\n",
    "        }\n",
    "    },\n",
    "    \"Building\": {\n",
    "        \"Empire State Building\": {\n",
    "            \"north_axis\": 30,\n",
    "            \"terrain\": \"City\",\n",
    "            \"loads_convergence_tolerance_value\": 0.04,\n",
    "            \"temperature_convergence_tolerance_value\": 0.4,\n",
    "            \"solar_distribution\": \"FullExterior\",\n",
    "            \"maximum_number_of_warmup_days\": 25,\n",
    "            \"minimum_number_of_warmup_days\": 6,\n",
    "            \"idf_order\": 3\n",
    "        }\n",
    "    },\n",
    "    \"Site:Location\": {\n",
    "        \"CHICAGO_IL_USA TMY2-94846\": {\n",
    "            \"latitude\": 41.78,\n",
    "            \"longitude\": -87.75,\n",
    "            \"time_zone\": -6,\n",
    "            \"elevation\": 190,\n",
    "            \"idf_order\": 4\n",
    "        }\n",
    "    }\n",
    "}"
   ]
  },
  {
   "cell_type": "markdown",
   "metadata": {},
   "source": [
    "To use eppy3000 to look at this model, we have to run a little code first:"
   ]
  },
  {
   "cell_type": "code",
   "execution_count": 7,
   "metadata": {},
   "outputs": [],
   "source": [
    "# you would normaly install eppy by doing\n",
    "# python setup.py install\n",
    "# or\n",
    "# pip install eppy\n",
    "# or\n",
    "# easy_install eppy\n",
    "\n",
    "# if you have not done so, uncomment the following three lines\n",
    "import sys\n",
    "# pathnameto_eppy = 'c:/eppy3000'\n",
    "pathnameto_eppy3000 = '../'\n",
    "sys.path.append(pathnameto_eppy3000)\n",
    "\n",
    "from eppy3000.modelmaker import EPJ\n",
    "schema_file = \"../eppy3000/resources/schema/V9_3/Energy+.schema.epJSON\"\n",
    "ep_file = \"../eppy3000/resources/epJSON/V9_3/smallfile.epJSON\""
   ]
  },
  {
   "cell_type": "code",
   "execution_count": 15,
   "metadata": {},
   "outputs": [],
   "source": [
    "epschemaname = \"/Applications/EnergyPlus-8-9-0/Energy+.schema.epJSON\"\n",
    "epschemaname = \"/Applications/EnergyPlus-9-3-0/Energy+.schema.epJSON\" # does not work\n",
    "\n",
    "epschemaname =\"../eppy3000/resources/schema/V9_3/Energy+.schema.epJSON\" # does not work\n",
    "epschemaname =\"../eppy3000/resources/schema/V9_0/Energy+.schema.epJSON\"\n",
    "\n",
    "epj = EPJ(epjname=ep_file, epschemaname=epschemaname)\n",
    "\n",
    "# TODO: eppy3000 is chocking on schema from E+ version 9.3"
   ]
  },
  {
   "cell_type": "code",
   "execution_count": null,
   "metadata": {},
   "outputs": [],
   "source": []
  }
 ],
 "metadata": {
  "kernelspec": {
   "display_name": "Python 3",
   "language": "python",
   "name": "python3"
  },
  "language_info": {
   "codemirror_mode": {
    "name": "ipython",
    "version": 3
   },
   "file_extension": ".py",
   "mimetype": "text/x-python",
   "name": "python",
   "nbconvert_exporter": "python",
   "pygments_lexer": "ipython3",
   "version": "3.7.4"
  }
 },
 "nbformat": 4,
 "nbformat_minor": 4
}
